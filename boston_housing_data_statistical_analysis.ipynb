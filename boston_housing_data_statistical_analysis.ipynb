{
 "cells": [
  {
   "cell_type": "code",
   "execution_count": 1,
   "id": "976bda64",
   "metadata": {},
   "outputs": [],
   "source": [
    "import numpy as np\n",
    "import pandas as pd\n",
    "import matplotlib.pyplot as plt\n",
    "import seaborn\n",
    "import scipy.stats\n",
    "\n",
    "%matplotlib inline"
   ]
  },
  {
   "cell_type": "code",
   "execution_count": 2,
   "id": "78904fb5",
   "metadata": {},
   "outputs": [],
   "source": [
    "boston_url = 'https://cf-courses-data.s3.us.cloud-object-storage.appdomain.cloud/IBMDeveloperSkillsNetwork-ST0151EN-SkillsNetwork/labs/boston_housing.csv'\n",
    "boston_df = pd.read_csv(boston_url, index_col = 0)"
   ]
  },
  {
   "cell_type": "code",
   "execution_count": 3,
   "id": "5d135017",
   "metadata": {},
   "outputs": [
    {
     "data": {
      "text/html": [
       "<div>\n",
       "<style scoped>\n",
       "    .dataframe tbody tr th:only-of-type {\n",
       "        vertical-align: middle;\n",
       "    }\n",
       "\n",
       "    .dataframe tbody tr th {\n",
       "        vertical-align: top;\n",
       "    }\n",
       "\n",
       "    .dataframe thead th {\n",
       "        text-align: right;\n",
       "    }\n",
       "</style>\n",
       "<table border=\"1\" class=\"dataframe\">\n",
       "  <thead>\n",
       "    <tr style=\"text-align: right;\">\n",
       "      <th></th>\n",
       "      <th>CRIM</th>\n",
       "      <th>ZN</th>\n",
       "      <th>INDUS</th>\n",
       "      <th>CHAS</th>\n",
       "      <th>NOX</th>\n",
       "      <th>RM</th>\n",
       "      <th>AGE</th>\n",
       "      <th>DIS</th>\n",
       "      <th>RAD</th>\n",
       "      <th>TAX</th>\n",
       "      <th>PTRATIO</th>\n",
       "      <th>LSTAT</th>\n",
       "      <th>MEDV</th>\n",
       "    </tr>\n",
       "  </thead>\n",
       "  <tbody>\n",
       "    <tr>\n",
       "      <th>0</th>\n",
       "      <td>0.00632</td>\n",
       "      <td>18.0</td>\n",
       "      <td>2.31</td>\n",
       "      <td>0.0</td>\n",
       "      <td>0.538</td>\n",
       "      <td>6.575</td>\n",
       "      <td>65.2</td>\n",
       "      <td>4.0900</td>\n",
       "      <td>1.0</td>\n",
       "      <td>296.0</td>\n",
       "      <td>15.3</td>\n",
       "      <td>4.98</td>\n",
       "      <td>24.0</td>\n",
       "    </tr>\n",
       "    <tr>\n",
       "      <th>1</th>\n",
       "      <td>0.02731</td>\n",
       "      <td>0.0</td>\n",
       "      <td>7.07</td>\n",
       "      <td>0.0</td>\n",
       "      <td>0.469</td>\n",
       "      <td>6.421</td>\n",
       "      <td>78.9</td>\n",
       "      <td>4.9671</td>\n",
       "      <td>2.0</td>\n",
       "      <td>242.0</td>\n",
       "      <td>17.8</td>\n",
       "      <td>9.14</td>\n",
       "      <td>21.6</td>\n",
       "    </tr>\n",
       "    <tr>\n",
       "      <th>2</th>\n",
       "      <td>0.02729</td>\n",
       "      <td>0.0</td>\n",
       "      <td>7.07</td>\n",
       "      <td>0.0</td>\n",
       "      <td>0.469</td>\n",
       "      <td>7.185</td>\n",
       "      <td>61.1</td>\n",
       "      <td>4.9671</td>\n",
       "      <td>2.0</td>\n",
       "      <td>242.0</td>\n",
       "      <td>17.8</td>\n",
       "      <td>4.03</td>\n",
       "      <td>34.7</td>\n",
       "    </tr>\n",
       "    <tr>\n",
       "      <th>3</th>\n",
       "      <td>0.03237</td>\n",
       "      <td>0.0</td>\n",
       "      <td>2.18</td>\n",
       "      <td>0.0</td>\n",
       "      <td>0.458</td>\n",
       "      <td>6.998</td>\n",
       "      <td>45.8</td>\n",
       "      <td>6.0622</td>\n",
       "      <td>3.0</td>\n",
       "      <td>222.0</td>\n",
       "      <td>18.7</td>\n",
       "      <td>2.94</td>\n",
       "      <td>33.4</td>\n",
       "    </tr>\n",
       "    <tr>\n",
       "      <th>4</th>\n",
       "      <td>0.06905</td>\n",
       "      <td>0.0</td>\n",
       "      <td>2.18</td>\n",
       "      <td>0.0</td>\n",
       "      <td>0.458</td>\n",
       "      <td>7.147</td>\n",
       "      <td>54.2</td>\n",
       "      <td>6.0622</td>\n",
       "      <td>3.0</td>\n",
       "      <td>222.0</td>\n",
       "      <td>18.7</td>\n",
       "      <td>5.33</td>\n",
       "      <td>36.2</td>\n",
       "    </tr>\n",
       "  </tbody>\n",
       "</table>\n",
       "</div>"
      ],
      "text/plain": [
       "      CRIM    ZN  INDUS  CHAS    NOX     RM   AGE     DIS  RAD    TAX  \\\n",
       "0  0.00632  18.0   2.31   0.0  0.538  6.575  65.2  4.0900  1.0  296.0   \n",
       "1  0.02731   0.0   7.07   0.0  0.469  6.421  78.9  4.9671  2.0  242.0   \n",
       "2  0.02729   0.0   7.07   0.0  0.469  7.185  61.1  4.9671  2.0  242.0   \n",
       "3  0.03237   0.0   2.18   0.0  0.458  6.998  45.8  6.0622  3.0  222.0   \n",
       "4  0.06905   0.0   2.18   0.0  0.458  7.147  54.2  6.0622  3.0  222.0   \n",
       "\n",
       "   PTRATIO  LSTAT  MEDV  \n",
       "0     15.3   4.98  24.0  \n",
       "1     17.8   9.14  21.6  \n",
       "2     17.8   4.03  34.7  \n",
       "3     18.7   2.94  33.4  \n",
       "4     18.7   5.33  36.2  "
      ]
     },
     "execution_count": 3,
     "metadata": {},
     "output_type": "execute_result"
    }
   ],
   "source": [
    "boston_df.head()"
   ]
  },
  {
   "cell_type": "code",
   "execution_count": 4,
   "id": "c029a079",
   "metadata": {},
   "outputs": [
    {
     "data": {
      "image/png": "[encoded data removed]",
      "text/plain": [
       "<Figure size 432x288 with 1 Axes>"
      ]
     },
     "metadata": {
      "needs_background": "light"
     },
     "output_type": "display_data"
    }
   ],
   "source": [
    "ax = seaborn.boxplot(y='MEDV', data=boston_df) \n",
    "plt.title(\"Median value of owner-occupied homes\");"
   ]
  },
  {
   "cell_type": "markdown",
   "id": "4df60da5",
   "metadata": {},
   "source": [
    "First quartile is <20, median lies between 20 and 25, outliers are above 40"
   ]
  },
  {
   "cell_type": "code",
   "execution_count": 5,
   "id": "ad619f25",
   "metadata": {},
   "outputs": [],
   "source": [
    "boston_df['CHAS'] = boston_df['CHAS'].astype(int)"
   ]
  },
  {
   "cell_type": "code",
   "execution_count": 6,
   "id": "ef00081b",
   "metadata": {},
   "outputs": [
    {
     "data": {
      "text/plain": [
       "0    471\n",
       "1     35\n",
       "Name: CHAS, dtype: int64"
      ]
     },
     "execution_count": 6,
     "metadata": {},
     "output_type": "execute_result"
    }
   ],
   "source": [
    "boston_df['CHAS'].value_counts()"
   ]
  },
  {
   "cell_type": "code",
   "execution_count": 7,
   "id": "57d9d0db",
   "metadata": {},
   "outputs": [],
   "source": [
    "boston_df.loc[boston_df['CHAS'] == 1, 'CHAS'] = 'yes'\n",
    "boston_df.loc[boston_df['CHAS'] == 0, 'CHAS'] = 'no'"
   ]
  },
  {
   "cell_type": "code",
   "execution_count": 8,
   "id": "3559f93a",
   "metadata": {},
   "outputs": [
    {
     "data": {
      "image/png": "[encoded data removed]",
      "text/plain": [
       "<Figure size 360x360 with 1 Axes>"
      ]
     },
     "metadata": {
      "needs_background": "light"
     },
     "output_type": "display_data"
    }
   ],
   "source": [
    "ax = seaborn.catplot(x='CHAS', kind='count', data=boston_df)\n",
    "ax.set(xlabel='Charles River bound', title = \"Houses bounded by Charles Counts\");"
   ]
  },
  {
   "cell_type": "code",
   "execution_count": 9,
   "id": "172696af",
   "metadata": {},
   "outputs": [
    {
     "data": {
      "image/png": "[encoded data removed]",
      "text/plain": [
       "<Figure size 432x288 with 1 Axes>"
      ]
     },
     "metadata": {
      "needs_background": "light"
     },
     "output_type": "display_data"
    }
   ],
   "source": [
    "boston_df['CHAS'].value_counts().plot(kind = \"bar\" , color = \"orange\")\n",
    "plt.title(\"Houses bounded by Charles Counts\")\n",
    "plt.xlabel(\"Charles River bound\")\n",
    "plt.legend();"
   ]
  },
  {
   "cell_type": "markdown",
   "id": "6225edbc",
   "metadata": {},
   "source": [
    "Majority is not Charles river bound"
   ]
  },
  {
   "cell_type": "code",
   "execution_count": 10,
   "id": "e28259c5",
   "metadata": {},
   "outputs": [],
   "source": [
    "boston_df.loc[(boston_df['AGE']<= 35),'age_group'] = '35 years and younger'\n",
    "boston_df.loc[(boston_df['AGE'] > 35)&(boston_df['AGE'] < 70),'age_group'] = 'between 35 and 70 years'\n",
    "boston_df.loc[(boston_df['AGE']>= 70),'age_group'] = '70 years and older'"
   ]
  },
  {
   "cell_type": "code",
   "execution_count": 11,
   "id": "b641e17c",
   "metadata": {},
   "outputs": [
    {
     "data": {
      "text/html": [
       "<div>\n",
       "<style scoped>\n",
       "    .dataframe tbody tr th:only-of-type {\n",
       "        vertical-align: middle;\n",
       "    }\n",
       "\n",
       "    .dataframe tbody tr th {\n",
       "        vertical-align: top;\n",
       "    }\n",
       "\n",
       "    .dataframe thead th {\n",
       "        text-align: right;\n",
       "    }\n",
       "</style>\n",
       "<table border=\"1\" class=\"dataframe\">\n",
       "  <thead>\n",
       "    <tr style=\"text-align: right;\">\n",
       "      <th></th>\n",
       "      <th>count</th>\n",
       "      <th>mean</th>\n",
       "      <th>std</th>\n",
       "    </tr>\n",
       "    <tr>\n",
       "      <th>age_group</th>\n",
       "      <th></th>\n",
       "      <th></th>\n",
       "      <th></th>\n",
       "    </tr>\n",
       "  </thead>\n",
       "  <tbody>\n",
       "    <tr>\n",
       "      <th>35 years and younger</th>\n",
       "      <td>91</td>\n",
       "      <td>27.775824</td>\n",
       "      <td>7.638198</td>\n",
       "    </tr>\n",
       "    <tr>\n",
       "      <th>70 years and older</th>\n",
       "      <td>287</td>\n",
       "      <td>19.793380</td>\n",
       "      <td>9.515375</td>\n",
       "    </tr>\n",
       "    <tr>\n",
       "      <th>between 35 and 70 years</th>\n",
       "      <td>128</td>\n",
       "      <td>24.947656</td>\n",
       "      <td>6.969370</td>\n",
       "    </tr>\n",
       "  </tbody>\n",
       "</table>\n",
       "</div>"
      ],
      "text/plain": [
       "                         count       mean       std\n",
       "age_group                                          \n",
       "35 years and younger        91  27.775824  7.638198\n",
       "70 years and older         287  19.793380  9.515375\n",
       "between 35 and 70 years    128  24.947656  6.969370"
      ]
     },
     "execution_count": 11,
     "metadata": {},
     "output_type": "execute_result"
    }
   ],
   "source": [
    "age_group = boston_df.groupby('age_group', as_index = False).MEDV.agg([\"count\", \"mean\", \"std\"])\n",
    "age_group"
   ]
  },
  {
   "cell_type": "code",
   "execution_count": 12,
   "id": "9293aaf5",
   "metadata": {},
   "outputs": [
    {
     "data": {
      "image/png": "[encoded data removed]",
      "text/plain": [
       "<Figure size 432x288 with 1 Axes>"
      ]
     },
     "metadata": {
      "needs_background": "light"
     },
     "output_type": "display_data"
    }
   ],
   "source": [
    "ax = seaborn.boxplot(x= 'age_group', y='MEDV', data=boston_df)\n",
    "plt.title(\"The MEDV variable vs the AGE variable\")\n",
    "plt.xlabel(\"AGE\");"
   ]
  },
  {
   "cell_type": "markdown",
   "id": "3817436c",
   "metadata": {},
   "source": [
    "MEDV boxes overlap, lowest median is for 70 and older, highest median is for 35 and younger"
   ]
  },
  {
   "cell_type": "code",
   "execution_count": 13,
   "id": "33b10019",
   "metadata": {},
   "outputs": [
    {
     "data": {
      "image/png": "[encoded data removed]",
      "text/plain": [
       "<Figure size 432x288 with 1 Axes>"
      ]
     },
     "metadata": {
      "needs_background": "light"
     },
     "output_type": "display_data"
    }
   ],
   "source": [
    "ax = seaborn.scatterplot(x='NOX', y='INDUS', data=boston_df)\n",
    "plt.title(\"Nitric oxides concentration vs Non-retail business acres per town\");\n",
    "plt.xlabel(\"Nitric oxides concentration\")\n",
    "plt.ylabel(\"Non-retail business acres per town\")\n",
    "plt.show();"
   ]
  },
  {
   "cell_type": "markdown",
   "id": "f89795ee",
   "metadata": {},
   "source": [
    "Possible positive correlation between variables visualized by upward sloping curve"
   ]
  },
  {
   "cell_type": "code",
   "execution_count": 14,
   "id": "1175980d",
   "metadata": {
    "scrolled": true
   },
   "outputs": [
    {
     "data": {
      "image/png": "[encoded data removed]",
      "text/plain": [
       "<Figure size 432x288 with 1 Axes>"
      ]
     },
     "metadata": {
      "needs_background": "light"
     },
     "output_type": "display_data"
    }
   ],
   "source": [
    "seaborn.histplot(boston_df['PTRATIO'])\n",
    "plt.title(\"The pupil to teacher ratio distribution\")\n",
    "plt.xlabel(\"The pupil to teacher ratio by town\")\n",
    "plt.show();"
   ]
  },
  {
   "cell_type": "markdown",
   "id": "3940f609",
   "metadata": {},
   "source": [
    "Most prevalent ratio is 20.2"
   ]
  },
  {
   "cell_type": "markdown",
   "id": "bde62724",
   "metadata": {},
   "source": [
    "### Q1: Is there a significant difference in the median value of houses bounded by the Charles river or not?"
   ]
  },
  {
   "cell_type": "markdown",
   "id": "9b461ed0",
   "metadata": {},
   "source": [
    "__T-test__"
   ]
  },
  {
   "cell_type": "markdown",
   "id": "d5ace217",
   "metadata": {},
   "source": [
    "1. State your hypothesis.\n",
    "* H0: There is no significant difference in the median value of houses bounded by the Charles river\n",
    "* Ha: There is a significant difference in the median value of houses bounded by the Charles river\n",
    "\n",
    "2. Use α = 0.05"
   ]
  },
  {
   "cell_type": "markdown",
   "id": "3f6eb710",
   "metadata": {},
   "source": [
    "3. Perform the test Statistics."
   ]
  },
  {
   "cell_type": "markdown",
   "id": "ae30b8c9",
   "metadata": {},
   "source": [
    "* Perform levene test to check the variances equality\n",
    "+ H0: var1 = var2\n",
    "+ Ha: var1 != var2"
   ]
  },
  {
   "cell_type": "code",
   "execution_count": 15,
   "id": "6315023b",
   "metadata": {},
   "outputs": [
    {
     "data": {
      "text/plain": [
       "LeveneResult(statistic=8.751904896045998, pvalue=0.003238119367639829)"
      ]
     },
     "execution_count": 15,
     "metadata": {},
     "output_type": "execute_result"
    }
   ],
   "source": [
    "scipy.stats.levene(boston_df[boston_df['CHAS'] == 'yes']['MEDV'],\n",
    "                 boston_df[boston_df['CHAS'] == 'no']['MEDV'],\n",
    "                 center = 'mean')"
   ]
  },
  {
   "cell_type": "markdown",
   "id": "9a8c04fe",
   "metadata": {},
   "source": [
    "* Since the P-value = 0.003 less than 0.05 we reject the null hypothesis and conclude that var1 != var2"
   ]
  },
  {
   "cell_type": "markdown",
   "id": "e43be715",
   "metadata": {},
   "source": [
    "* We will use the T-test to check the hypothesis"
   ]
  },
  {
   "cell_type": "code",
   "execution_count": 16,
   "id": "f9368802",
   "metadata": {},
   "outputs": [
    {
     "data": {
      "text/plain": [
       "Ttest_indResult(statistic=nan, pvalue=nan)"
      ]
     },
     "execution_count": 16,
     "metadata": {},
     "output_type": "execute_result"
    }
   ],
   "source": [
    "scipy.stats.ttest_ind(boston_df[boston_df['CHAS'] == 1]['MEDV'],\n",
    "                     boston_df[boston_df['CHAS'] == 0]['MEDV'],\n",
    "                     equal_var = False)"
   ]
  },
  {
   "cell_type": "markdown",
   "id": "d9edd324",
   "metadata": {},
   "source": [
    "4. State the conclusion from the test.\n",
    "* Since the P-value of the T-test = 0.004 is less than α = 0.05 We reject the null hypothesis as there is enough evidence that there is a significant difference in the median value of houses bounded by the Charles river "
   ]
  },
  {
   "cell_type": "markdown",
   "id": "cfc8fd68",
   "metadata": {},
   "source": [
    "### Q2: Is there a difference in median values of houses of each proportion of owner-occupied units built before 1940?"
   ]
  },
  {
   "cell_type": "markdown",
   "id": "e0552cdf",
   "metadata": {},
   "source": [
    "__ANOVA Test__"
   ]
  },
  {
   "cell_type": "markdown",
   "id": "8211ea0d",
   "metadata": {},
   "source": [
    "1. State your hypothesis.\n",
    "* H0: There is no difference in median values of houses of each proportion of owner-occupied units built before 1940\n",
    "* Ha: There is a difference in median values of houses of each proportion of owner-occupied units built before 1940\n",
    "\n",
    "2. Use α = 0.05"
   ]
  },
  {
   "cell_type": "markdown",
   "id": "fe2fabbe",
   "metadata": {},
   "source": [
    "3. Perform the test Statistics.\n",
    "* We will use the ANOVA to check the hypothesis"
   ]
  },
  {
   "cell_type": "code",
   "execution_count": 17,
   "id": "c3586a1c",
   "metadata": {},
   "outputs": [],
   "source": [
    "thirtyfive_lower = boston_df.loc[(boston_df['AGE']<= 35),'AGE']\n",
    "thirtyfive_seventy = boston_df.loc[(boston_df['AGE'] > 35)&(boston_df['AGE'] < 70),'AGE']\n",
    "seventy_older = boston_df.loc[(boston_df['AGE']>= 70),'AGE']"
   ]
  },
  {
   "cell_type": "code",
   "execution_count": 18,
   "id": "a9b1c72a",
   "metadata": {},
   "outputs": [
    {
     "name": "stdout",
     "output_type": "stream",
     "text": [
      "F_Statistic: 2162.99425724172, P-Value: 9.005770381051771e-248\n"
     ]
    }
   ],
   "source": [
    "f_stats, p_value = scipy.stats.f_oneway(thirtyfive_lower, thirtyfive_seventy, seventy_older)\n",
    "print(\"F_Statistic: {}, P-Value: {}\".format(f_stats, p_value))"
   ]
  },
  {
   "cell_type": "markdown",
   "id": "30f80233",
   "metadata": {},
   "source": [
    "4. State the conclusion from the test.\n",
    "* Since the P-value of the ANOVA test = 9.00577e-248 is less than α = 0.05 We reject the null hypothesis as there is enough evidence that there is a difference in median values of houses of each proportion of owner-occupied units built before 1940"
   ]
  },
  {
   "cell_type": "markdown",
   "id": "7405e82b",
   "metadata": {},
   "source": [
    "### Q3: Can we conclude that there is no relationship between Nitric oxide concentrations and the proportion of non-retail business acres per town?"
   ]
  },
  {
   "cell_type": "markdown",
   "id": "7c8a0107",
   "metadata": {},
   "source": [
    "__Pearson Correlation Test__"
   ]
  },
  {
   "cell_type": "markdown",
   "id": "4acfc4ed",
   "metadata": {},
   "source": [
    "1. State your hypothesis.\n",
    "* H0: There is no relationship between Nitric oxide concentrations and the proportion of non-retail business acres per town\n",
    "* Ha: There is a relationship between Nitric oxide concentrations and the proportion of non-retail business acres per town\n",
    "\n",
    "2. Use α = 0.05"
   ]
  },
  {
   "cell_type": "markdown",
   "id": "8a2b1e21",
   "metadata": {},
   "source": [
    "3. Perform the test Statistics.\n",
    "* We will use the Pearson Correlation"
   ]
  },
  {
   "cell_type": "code",
   "execution_count": 19,
   "id": "0784a8f8",
   "metadata": {},
   "outputs": [
    {
     "data": {
      "text/plain": [
       "(0.7636514469209151, 7.913361061238693e-98)"
      ]
     },
     "execution_count": 19,
     "metadata": {},
     "output_type": "execute_result"
    }
   ],
   "source": [
    "scipy.stats.pearsonr(boston_df['NOX'], boston_df['INDUS'])"
   ]
  },
  {
   "cell_type": "markdown",
   "id": "7216e01b",
   "metadata": {},
   "source": [
    "4. State the conclusion from the test.\n",
    "* The P-value of the Person Correlation = 7.913e-98 is less than α = 0.05 We reject the null hypothesis as there is enough evidence that there is a relationship between Nitric oxide concentrations and the proportion of non-retail business acres per town\n",
    "* Correlation coefficient value = 0.76365 which means strong positive correlation, represented visually by upward sloping curve\n"
   ]
  },
  {
   "cell_type": "markdown",
   "id": "c02f4e2d",
   "metadata": {},
   "source": [
    "### Q4: What is the impact of an additional weighted distance to the five Boston employment centres on the median value of owner-occupied homes?"
   ]
  },
  {
   "cell_type": "markdown",
   "id": "1a5a5837",
   "metadata": {},
   "source": [
    "__Regression Analysis__"
   ]
  },
  {
   "cell_type": "markdown",
   "id": "613307ea",
   "metadata": {},
   "source": [
    "1. State your hypothesis.\n",
    "* H0: β1 = 0 (weighted distance to the five Boston employment centres has no impact on he median value of owner-occupied homes)\n",
    "* Ha: β1 is not equal to 0 (weighted distance to the five Boston employment centres has impact on he median value of owner-occupied homes)\n",
    "\n",
    "2. Use α = 0.05"
   ]
  },
  {
   "cell_type": "markdown",
   "id": "f10ed466",
   "metadata": {},
   "source": [
    "3. Perform the test Statistics.\n",
    "* We will use Regression Analysis"
   ]
  },
  {
   "cell_type": "code",
   "execution_count": 20,
   "id": "e6c49352",
   "metadata": {},
   "outputs": [],
   "source": [
    "import statsmodels.api as sm"
   ]
  },
  {
   "cell_type": "code",
   "execution_count": 21,
   "id": "2ab79107",
   "metadata": {},
   "outputs": [],
   "source": [
    "X = boston_df['DIS']\n",
    "y = boston_df['MEDV']"
   ]
  },
  {
   "cell_type": "code",
   "execution_count": 22,
   "id": "a175c779",
   "metadata": {},
   "outputs": [
    {
     "name": "stderr",
     "output_type": "stream",
     "text": [
      "/opt/conda/envs/Python-3.9/lib/python3.9/site-packages/statsmodels/tsa/tsatools.py:142: FutureWarning: In a future version of pandas all arguments of concat except for the argument 'objs' will be keyword-only\n",
      "  x = pd.concat(x[::order], 1)\n"
     ]
    }
   ],
   "source": [
    "X = sm.add_constant(X)"
   ]
  },
  {
   "cell_type": "code",
   "execution_count": 23,
   "id": "54b1fd2a",
   "metadata": {},
   "outputs": [],
   "source": [
    "model = sm.OLS(y,X).fit()"
   ]
  },
  {
   "cell_type": "code",
   "execution_count": 24,
   "id": "f5d0b351",
   "metadata": {},
   "outputs": [],
   "source": [
    "predictions = model.predict(X)"
   ]
  },
  {
   "cell_type": "code",
   "execution_count": 25,
   "id": "e9ca7359",
   "metadata": {},
   "outputs": [
    {
     "data": {
      "text/html": [
       "<table class=\"simpletable\">\n",
       "<caption>OLS Regression Results</caption>\n",
       "<tr>\n",
       "  <th>Dep. Variable:</th>          <td>MEDV</td>       <th>  R-squared:         </th> <td>   0.062</td>\n",
       "</tr>\n",
       "<tr>\n",
       "  <th>Model:</th>                   <td>OLS</td>       <th>  Adj. R-squared:    </th> <td>   0.061</td>\n",
       "</tr>\n",
       "<tr>\n",
       "  <th>Method:</th>             <td>Least Squares</td>  <th>  F-statistic:       </th> <td>   33.58</td>\n",
       "</tr>\n",
       "<tr>\n",
       "  <th>Date:</th>             <td>Tue, 23 Aug 2022</td> <th>  Prob (F-statistic):</th> <td>1.21e-08</td>\n",
       "</tr>\n",
       "<tr>\n",
       "  <th>Time:</th>                 <td>10:12:50</td>     <th>  Log-Likelihood:    </th> <td> -1823.9</td>\n",
       "</tr>\n",
       "<tr>\n",
       "  <th>No. Observations:</th>      <td>   506</td>      <th>  AIC:               </th> <td>   3652.</td>\n",
       "</tr>\n",
       "<tr>\n",
       "  <th>Df Residuals:</th>          <td>   504</td>      <th>  BIC:               </th> <td>   3660.</td>\n",
       "</tr>\n",
       "<tr>\n",
       "  <th>Df Model:</th>              <td>     1</td>      <th>                     </th>     <td> </td>   \n",
       "</tr>\n",
       "<tr>\n",
       "  <th>Covariance Type:</th>      <td>nonrobust</td>    <th>                     </th>     <td> </td>   \n",
       "</tr>\n",
       "</table>\n",
       "<table class=\"simpletable\">\n",
       "<tr>\n",
       "    <td></td>       <th>coef</th>     <th>std err</th>      <th>t</th>      <th>P>|t|</th>  <th>[0.025</th>    <th>0.975]</th>  \n",
       "</tr>\n",
       "<tr>\n",
       "  <th>const</th> <td>   18.3901</td> <td>    0.817</td> <td>   22.499</td> <td> 0.000</td> <td>   16.784</td> <td>   19.996</td>\n",
       "</tr>\n",
       "<tr>\n",
       "  <th>DIS</th>   <td>    1.0916</td> <td>    0.188</td> <td>    5.795</td> <td> 0.000</td> <td>    0.722</td> <td>    1.462</td>\n",
       "</tr>\n",
       "</table>\n",
       "<table class=\"simpletable\">\n",
       "<tr>\n",
       "  <th>Omnibus:</th>       <td>139.779</td> <th>  Durbin-Watson:     </th> <td>   0.570</td>\n",
       "</tr>\n",
       "<tr>\n",
       "  <th>Prob(Omnibus):</th> <td> 0.000</td>  <th>  Jarque-Bera (JB):  </th> <td> 305.104</td>\n",
       "</tr>\n",
       "<tr>\n",
       "  <th>Skew:</th>          <td> 1.466</td>  <th>  Prob(JB):          </th> <td>5.59e-67</td>\n",
       "</tr>\n",
       "<tr>\n",
       "  <th>Kurtosis:</th>      <td> 5.424</td>  <th>  Cond. No.          </th> <td>    9.32</td>\n",
       "</tr>\n",
       "</table><br/><br/>Notes:<br/>[1] Standard Errors assume that the covariance matrix of the errors is correctly specified."
      ],
      "text/plain": [
       "<class 'statsmodels.iolib.summary.Summary'>\n",
       "\"\"\"\n",
       "                            OLS Regression Results                            \n",
       "==============================================================================\n",
       "Dep. Variable:                   MEDV   R-squared:                       0.062\n",
       "Model:                            OLS   Adj. R-squared:                  0.061\n",
       "Method:                 Least Squares   F-statistic:                     33.58\n",
       "Date:                Tue, 23 Aug 2022   Prob (F-statistic):           1.21e-08\n",
       "Time:                        10:12:50   Log-Likelihood:                -1823.9\n",
       "No. Observations:                 506   AIC:                             3652.\n",
       "Df Residuals:                     504   BIC:                             3660.\n",
       "Df Model:                           1                                         \n",
       "Covariance Type:            nonrobust                                         \n",
       "==============================================================================\n",
       "                 coef    std err          t      P>|t|      [0.025      0.975]\n",
       "------------------------------------------------------------------------------\n",
       "const         18.3901      0.817     22.499      0.000      16.784      19.996\n",
       "DIS            1.0916      0.188      5.795      0.000       0.722       1.462\n",
       "==============================================================================\n",
       "Omnibus:                      139.779   Durbin-Watson:                   0.570\n",
       "Prob(Omnibus):                  0.000   Jarque-Bera (JB):              305.104\n",
       "Skew:                           1.466   Prob(JB):                     5.59e-67\n",
       "Kurtosis:                       5.424   Cond. No.                         9.32\n",
       "==============================================================================\n",
       "\n",
       "Notes:\n",
       "[1] Standard Errors assume that the covariance matrix of the errors is correctly specified.\n",
       "\"\"\""
      ]
     },
     "execution_count": 25,
     "metadata": {},
     "output_type": "execute_result"
    }
   ],
   "source": [
    "model.summary()"
   ]
  },
  {
   "cell_type": "markdown",
   "id": "c1ab3efc",
   "metadata": {},
   "source": [
    "4. State the conclusion from the test.\n",
    "* The p-value is less than the alpha (α) level = 0.05, so we reject the null hypothesis as there is evidence that weighted distance to the five Boston employment centres has impact on he median value of owner-occupied homes\n",
    "* The coefficient of the 'DIS' variable = 1.0916 which means that the weighted distances to five Boston employment centres increases the median value of owner-occupied homes by 1.0916"
   ]
  },
  {
   "cell_type": "code",
   "execution_count": null,
   "id": "3623f8f3",
   "metadata": {},
   "outputs": [],
   "source": []
  }
 ],
 "metadata": {
  "kernelspec": {
   "display_name": "Python 3 (ipykernel)",
   "language": "python",
   "name": "python3"
  },
  "language_info": {
   "codemirror_mode": {
    "name": "ipython",
    "version": 3
   },
   "file_extension": ".py",
   "mimetype": "text/x-python",
   "name": "python",
   "nbconvert_exporter": "python",
   "pygments_lexer": "ipython3",
   "version": "3.8.5"
  }
 },
 "nbformat": 4,
 "nbformat_minor": 5
}
